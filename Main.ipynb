{
 "cells": [
  {
   "cell_type": "code",
   "execution_count": null,
   "id": "8eabd020",
   "metadata": {},
   "outputs": [],
   "source": [
    "import numpy as np\n",
    "from SPO import SpiralOptimizer"
   ]
  },
  {
   "cell_type": "code",
   "execution_count": null,
   "id": "af69188f",
   "metadata": {},
   "outputs": [],
   "source": [
    "# Some objective functions\n",
    "\n",
    "def sphere(x):\n",
    "    return np.sum(x ** 2)\n",
    "\n",
    "def rastrigin(x):\n",
    "    n = len(x)\n",
    "    A = 10\n",
    "    return A * n + np.sum(x**2 - A * np.cos(2 * np.pi * x))\n",
    "\n",
    "def rosenbrock(x):\n",
    "    return np.sum(100.0 * (x[1:] - x[:-1]**2)**2 + (1 - x[:-1])**2)\n",
    "\n",
    "def ackley(x):\n",
    "    n = len(x)\n",
    "    return -20 * np.exp(-0.2 * np.sqrt(np.sum(x**2) / n)) - np.exp(np.sum(np.cos(2 * np.pi * x)) / n) + 20 + np.e"
   ]
  },
  {
   "cell_type": "code",
   "execution_count": null,
   "id": "d2b22896",
   "metadata": {},
   "outputs": [],
   "source": [
    "dim = 2\n",
    "num_points = 50\n",
    "bounds = (-5, 5) # conventional bounds for Sphere\n",
    "max_iterations = 100\n",
    "\n",
    "# suggested setting of r in section V C. of\n",
    "# 'The Spiral Optimization and its stability analysis' (Kenichi Tamura, Keiichiro Yasuda) - https://ieeexplore.ieee.org/document/6557686\n",
    "r = 10e-3 ** (1 / max_iterations)\n",
    "# common setting in the literature\n",
    "theta = np.pi / 4\n",
    "\n",
    "print(\"2-Dimensional Sphere Function: 100 iterations\")\n",
    "optimizer_rastrigin = SpiralOptimizer(sphere, dim, bounds, num_points, r, theta)\n",
    "optimizer_rastrigin.run(max_iterations)"
   ]
  },
  {
   "cell_type": "code",
   "execution_count": null,
   "id": "604c79ca",
   "metadata": {},
   "outputs": [],
   "source": [
    "dim = 20\n",
    "num_points = 50\n",
    "bounds = (-5, 5) # conventional bounds for Sphere\n",
    "max_iterations = 100\n",
    "\n",
    "# suggested setting of r in section V C. of\n",
    "# 'The Spiral Optimization and its stability analysis' (Kenichi Tamura, Keiichiro Yasuda) - https://ieeexplore.ieee.org/document/6557686\n",
    "r = 10e-3 ** (1 / max_iterations)\n",
    "# common setting in the literature\n",
    "theta = np.pi / 4\n",
    "\n",
    "print(\"20-Dimensional Sphere Function: 100 iterations\")\n",
    "optimizer_rastrigin = SpiralOptimizer(sphere, dim, bounds, num_points, r, theta)\n",
    "optimizer_rastrigin.run(max_iterations)"
   ]
  },
  {
   "cell_type": "code",
   "execution_count": null,
   "id": "4796e03d",
   "metadata": {},
   "outputs": [],
   "source": [
    "dim = 2\n",
    "num_points = 50\n",
    "bounds = (-5, 5) # conventional bounds for Rastrigin\n",
    "max_iterations = 1000\n",
    "\n",
    "# suggested setting of r in section V C. of\n",
    "# 'The Spiral Optimization and its stability analysis' (Kenichi Tamura, Keiichiro Yasuda) - https://ieeexplore.ieee.org/document/6557686\n",
    "r = 10e-3 ** (1 / max_iterations)\n",
    "# common setting in the literature\n",
    "theta = np.pi / 4\n",
    "\n",
    "print(\"2-Dimensional Rastrigin Function: 1000 iterations\")\n",
    "optimizer_rastrigin = SpiralOptimizer(rastrigin, dim, bounds, num_points, r, theta)\n",
    "optimizer_rastrigin.run(max_iterations)"
   ]
  },
  {
   "cell_type": "code",
   "execution_count": null,
   "id": "2db439cf",
   "metadata": {},
   "outputs": [],
   "source": [
    "dim = 20\n",
    "num_points = 50\n",
    "bounds = (-5, 5) # conventional bounds for Rastrigin\n",
    "max_iterations = 1000\n",
    "\n",
    "# suggested setting of r in section V C. of\n",
    "# 'The Spiral Optimization and its stability analysis' (Kenichi Tamura, Keiichiro Yasuda) - https://ieeexplore.ieee.org/document/6557686\n",
    "r = 10e-3 ** (1 / max_iterations)\n",
    "# common setting in the literature\n",
    "theta = np.pi / 4\n",
    "\n",
    "print(\"20-Dimensional Rastrigin Function: 1000 iterations\")\n",
    "optimizer_rastrigin = SpiralOptimizer(rastrigin, dim, bounds, num_points, r, theta)\n",
    "optimizer_rastrigin.run(max_iterations)"
   ]
  },
  {
   "cell_type": "code",
   "execution_count": null,
   "id": "8215f4b6",
   "metadata": {},
   "outputs": [],
   "source": [
    "dim = 2\n",
    "num_points = 50\n",
    "bounds = (-30, 30) # conventional bounds for Ackley\n",
    "max_iterations = 1000\n",
    "\n",
    "# suggested setting of r in section V C. of\n",
    "# 'The Spiral Optimization and its stability analysis' (Kenichi Tamura, Keiichiro Yasuda) - https://ieeexplore.ieee.org/document/6557686\n",
    "r = 10e-3 ** (1 / max_iterations)\n",
    "# common setting in the literature\n",
    "theta = np.pi / 4\n",
    "\n",
    "print(\"2-Dimensional Ackley Function: 1000 iterations\")\n",
    "optimizer_rastrigin = SpiralOptimizer(ackley, dim, bounds, num_points, r, theta)\n",
    "optimizer_rastrigin.run(max_iterations)"
   ]
  },
  {
   "cell_type": "code",
   "execution_count": null,
   "id": "9d03d482",
   "metadata": {},
   "outputs": [],
   "source": [
    "dim = 20\n",
    "num_points = 50\n",
    "bounds = (-30, 30) # conventional bounds for Ackley\n",
    "max_iterations = 1000\n",
    "\n",
    "# suggested setting of r in section V C. of\n",
    "# 'The Spiral Optimization and its stability analysis' (Kenichi Tamura, Keiichiro Yasuda) - https://ieeexplore.ieee.org/document/6557686\n",
    "r = 10e-3 ** (1 / max_iterations)\n",
    "# common setting in the literature\n",
    "theta = np.pi / 4\n",
    "\n",
    "print(\"20-Dimensional Ackley Function: 1000 iterations\")\n",
    "optimizer_rastrigin = SpiralOptimizer(ackley, dim, bounds, num_points, r, theta)\n",
    "optimizer_rastrigin.run(max_iterations)"
   ]
  },
  {
   "cell_type": "code",
   "execution_count": null,
   "id": "d7d3f0ca",
   "metadata": {},
   "outputs": [],
   "source": [
    "dim = 2\n",
    "num_points = 50\n",
    "bounds = (-2, 2) # conventional bounds for Rosenbrock\n",
    "max_iterations = 1000\n",
    "\n",
    "# suggested setting of r in section V C. of\n",
    "# 'The Spiral Optimization and its stability analysis' (Kenichi Tamura, Keiichiro Yasuda) - https://ieeexplore.ieee.org/document/6557686\n",
    "r = 10e-3 ** (1 / max_iterations)\n",
    "# common setting in the literature\n",
    "theta = np.pi / 4\n",
    "\n",
    "print(\"2-Dimensional Rosenbrock Function: 1000 iterations\")\n",
    "optimizer_rastrigin = SpiralOptimizer(rosenbrock, dim, bounds, num_points, r, theta)\n",
    "optimizer_rastrigin.run(max_iterations)"
   ]
  }
 ],
 "metadata": {
  "kernelspec": {
   "display_name": "venv",
   "language": "python",
   "name": "python3"
  },
  "language_info": {
   "codemirror_mode": {
    "name": "ipython",
    "version": 3
   },
   "file_extension": ".py",
   "mimetype": "text/x-python",
   "name": "python",
   "nbconvert_exporter": "python",
   "pygments_lexer": "ipython3",
   "version": "3.10.9"
  }
 },
 "nbformat": 4,
 "nbformat_minor": 5
}
